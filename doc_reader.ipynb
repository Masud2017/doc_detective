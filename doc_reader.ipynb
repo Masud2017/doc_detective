{
 "cells": [
  {
   "cell_type": "code",
   "execution_count": 39,
   "id": "adea526b",
   "metadata": {},
   "outputs": [],
   "source": [
    "import docx\n",
    "from pdfminer.high_level import extract_text"
   ]
  },
  {
   "cell_type": "code",
   "execution_count": 57,
   "id": "32c2ea10",
   "metadata": {},
   "outputs": [],
   "source": [
    "supported_file_extension_list = [\"docx\",\"txt\",\"pdf\",\"doc\"]\n",
    "\n",
    "class DocReader:\n",
    "    def __init__(self,filename):\n",
    "        self.flag = False\n",
    "        self.detected_file_ext = \"\"\n",
    "        self.extracted_text_content = \"\"\n",
    "        \n",
    "        splited_file_name = filename.split(\".\")\n",
    "        for x in supported_file_extension_list:\n",
    "            if(x == splited_file_name[1]):\n",
    "                if (x == \"docx\"):\n",
    "                    self.doc_file = docx.Document(filename)\n",
    "                    self.detected_file_ext = \"docx\"\n",
    "                elif (x == \"pdf\"):\n",
    "                    self.doc_file = extract_text(filename)\n",
    "                    self.detected_file_ext = \"pdf\"\n",
    "                elif (x == \"txt\"):\n",
    "                    self.doc_file = open(filename,\"r\")\n",
    "                    self.detected_file_ext = \"txt\"\n",
    "                    \n",
    "                self.flag = True\n",
    "            \n",
    "        if (not self.flag):\n",
    "            raise TypeError(\"File type is not supported\")\n",
    "    def read_content(self):\n",
    "        if (self.detected_file_ext == \"docx\"):\n",
    "            for para in self.doc_file.paragraphs:\n",
    "                self.extracted_text_content = self.extracted_text_content + para\n",
    "        elif (self.detected_file_ext == \"pdf\"):\n",
    "            self.extracted_text_content = self.extracted_text_content + self.doc_file\n",
    "        elif (self.detected_file_ext == \"txt\"):\n",
    "            self.extracted_text_content = self.doc_file.read()\n",
    "            \n",
    "        return self.extracted_text_content\n",
    "            "
   ]
  },
  {
   "cell_type": "code",
   "execution_count": 59,
   "id": "cea97a70",
   "metadata": {},
   "outputs": [
    {
     "name": "stdout",
     "output_type": "stream",
     "text": [
      "hello world this my stuff.\n",
      "test text file\n"
     ]
    }
   ],
   "source": [
    "if __name__ == \"__main__\":\n",
    "    doc_reader = DocReader(filename=\"readable3.txt\")\n",
    "#     if (doc_reader.detected_file_ext == \"docx\"):\n",
    "#          for para in doc_reader.doc_file.paragraphs:\n",
    "#             print(para.text)\n",
    "#     elif (doc_reader.detected_file_ext == \"pdf\"):\n",
    "#         print(doc_reader.doc_file)\n",
    "\n",
    "    print(doc_reader.read_content())\n"
   ]
  },
  {
   "cell_type": "code",
   "execution_count": null,
   "id": "35e5e3b1",
   "metadata": {},
   "outputs": [],
   "source": []
  },
  {
   "cell_type": "code",
   "execution_count": null,
   "id": "ce6819b3",
   "metadata": {},
   "outputs": [],
   "source": []
  },
  {
   "cell_type": "code",
   "execution_count": null,
   "id": "d63e041d",
   "metadata": {},
   "outputs": [],
   "source": []
  },
  {
   "cell_type": "code",
   "execution_count": null,
   "id": "a4da5220",
   "metadata": {},
   "outputs": [],
   "source": []
  }
 ],
 "metadata": {
  "kernelspec": {
   "display_name": "Python 3 (ipykernel)",
   "language": "python",
   "name": "python3"
  },
  "language_info": {
   "codemirror_mode": {
    "name": "ipython",
    "version": 3
   },
   "file_extension": ".py",
   "mimetype": "text/x-python",
   "name": "python",
   "nbconvert_exporter": "python",
   "pygments_lexer": "ipython3",
   "version": "3.10.6"
  }
 },
 "nbformat": 4,
 "nbformat_minor": 5
}

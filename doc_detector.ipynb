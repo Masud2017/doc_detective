{
 "cells": [
  {
   "cell_type": "code",
   "execution_count": 10,
   "id": "ffd4d185",
   "metadata": {},
   "outputs": [],
   "source": [
    "import numpy as np\n",
    "import pandas as pd\n",
    "import matplotlib.pyplot as plt\n",
    "import logging"
   ]
  },
  {
   "cell_type": "code",
   "execution_count": 17,
   "id": "436cabb7",
   "metadata": {},
   "outputs": [],
   "source": [
    "class PlagiarismDetector:\n",
    "    def __init__(self,first_doc_name,second_doc_name):\n",
    "        self.first_doc_name = first_doc_name\n",
    "        self.second_doc_name = second_doc_name\n",
    "        \n",
    "        try:\n",
    "            self.fist_doc_file = open(self.first_doc_name)\n",
    "            self.second_doc_file = open(self.second_doc_name)\n",
    "        except Exception:\n",
    "            logging.error(\"File is not found\")\n",
    "            \n",
    "    def get_detection_percentage(self):\n",
    "        return 23\n",
    "\n",
    "def main():\n",
    "    detector = PlagiarismDetector(\"first_file_name\",\"second_file_name\")\n",
    "    print(detector.get_detection_percentage())"
   ]
  },
  {
   "cell_type": "code",
   "execution_count": 18,
   "id": "ccace2da",
   "metadata": {},
   "outputs": [
    {
     "name": "stderr",
     "output_type": "stream",
     "text": [
      "ERROR:root:File is not found\n"
     ]
    },
    {
     "name": "stdout",
     "output_type": "stream",
     "text": [
      "23\n"
     ]
    }
   ],
   "source": [
    "if __name__ == \"__main__\":\n",
    "    main()"
   ]
  },
  {
   "cell_type": "code",
   "execution_count": null,
   "id": "eb65810c",
   "metadata": {},
   "outputs": [],
   "source": []
  },
  {
   "cell_type": "code",
   "execution_count": null,
   "id": "84dc8921",
   "metadata": {},
   "outputs": [],
   "source": []
  }
 ],
 "metadata": {
  "kernelspec": {
   "display_name": "Python 3 (ipykernel)",
   "language": "python",
   "name": "python3"
  },
  "language_info": {
   "codemirror_mode": {
    "name": "ipython",
    "version": 3
   },
   "file_extension": ".py",
   "mimetype": "text/x-python",
   "name": "python",
   "nbconvert_exporter": "python",
   "pygments_lexer": "ipython3",
   "version": "3.10.5"
  }
 },
 "nbformat": 4,
 "nbformat_minor": 5
}

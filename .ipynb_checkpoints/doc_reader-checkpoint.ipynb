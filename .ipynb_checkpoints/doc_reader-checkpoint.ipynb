{
 "cells": [
  {
   "cell_type": "code",
   "execution_count": 4,
   "id": "9fd06c7b",
   "metadata": {},
   "outputs": [],
   "source": [
    "import docx"
   ]
  },
  {
   "cell_type": "code",
   "execution_count": 7,
   "id": "541b09bb",
   "metadata": {},
   "outputs": [],
   "source": [
    "supported_file_extension_list = [\"docx\",\"txt\",\"pdf\",\"doc\"]\n",
    "class DocReader:\n",
    "    def __init__(self,filename):\n",
    "        self.doc_file = docx.Document(filename)\n",
    "        print(\"Hello world from doc reader\")\n",
    "    "
   ]
  },
  {
   "cell_type": "code",
   "execution_count": 12,
   "id": "9747d422",
   "metadata": {},
   "outputs": [
    {
     "name": "stdout",
     "output_type": "stream",
     "text": [
      "Hello world from doc reader\n",
      "Remember the main reason people learning stuff is money. So at first learn the stuff that matters.\n",
      "Restriction : I won’t touch anything new if it is not related to the below group. If something new comes I will put them to the bucket list. \n",
      "I will maintain this routine or rule whatever until I complete the whole task .. \n",
      "I won’t create any new docs for planning. I will maintain this very doc for all the planning and goals.\n",
      "But I might create new bucket lists.\n",
      "\n",
      "Target : I have to be super programmer 😎\n",
      "\n",
      "What need to be good at : \n",
      "Multithreading (async, sync using netty, nio and blocking io)\n",
      "Docker(microservice)\n",
      "Stream api\n",
      "\n",
      "What need to learn next:\n",
      "System design\n",
      "Akka\n",
      "Aop/\n",
      "Rx java\n",
      "Ci/CD \n",
      "Aws\n",
      "\n",
      "\n",
      "—------------------------------------------------------------------------------------------------------------------------\n",
      "Currently Learning stuff : \n",
      "Multithreading (async, sync using netty , nio and blocking io) → every day [main priority] [catagory 1]\n",
      "Solve problem from leetcode or codeforces (50 easy – 50 medium and 50 hard) :: job preparation  – at least 3 days in a week [catagory -2]\n",
      "Block chain\n",
      "\n",
      "After completing the multithreading I have to create a portfolio using (docker,java,spring,aws) and platform would be (web and mobile) I won’t use kotlin that would depend on the company.\n",
      "—------------------------------------------------------------------------------------------------------------------------\n",
      "\n",
      "Extra focus : \n",
      "Block chain (dapp)\n",
      "\n",
      "\n",
      "Interests : \n",
      "SWE\n",
      "Block chain\n",
      "Ml\n",
      "Embedded system\n",
      "\n",
      "My weak points that I need to rework:\n",
      "DS/Algo (I know them partially)\n",
      "Productivity\n",
      "\n",
      "\n",
      "Plan to proceed : \n",
      "At first I will do block chain 1 month straight, then if I think there should be much to learn then I can extend 1 month more. Then I will start machine learning.\n",
      "\n",
      "============================>>>><<<<============================\n",
      "Dividing skill set in 4 different part : \n",
      "Category 1 : The mandatory stuff for current working profession(swe or block chain or ml or embedded whatever) [high priority]\n",
      "Category 2 : Skill sets/knowledges that are directly connected to the current profession(e.g : react js , new languages, maths , learning about a specific technology) [second high priority]\n",
      "Category 3 : Learning something that is not connected with the current profession (machine learning, block chain , embedded system , art etc) [low priority]\n",
      "\n",
      "What do I mean by being a super programmer ?\n",
      "The meaning of super programmer to me is, a person who knows his/her tools better. They can think very fast. The person who has done a hell lot of programming and is very proficient and willing to do any type of hard work needed to make that project successful.\n",
      "\n",
      "So how to be a good programmer and also a swe?\n",
      "First I have to make sure that I am good at the language that I am using.\n",
      "Second, I have cleared all the doubts that I have related to the skill sets that I have already acquired.\n",
      "I have to write some complex projects and be consistent until I complete them and try to use all the best practices that I can.\n",
      "Moral of the story is I have to do a lot of programming.\n",
      "\n",
      "Note : While learning anything my main problem is I rush too fast. I should calm myself down and try to understand the documentation properly otherwise It will waste a lot of time.\n",
      "\n",
      "\n",
      "\n",
      "Hello world\n"
     ]
    }
   ],
   "source": [
    "if __name__ == \"__main__\":\n",
    "    doc_reader = DocReader(filename=\"readable.docx\")\n",
    "    for para in doc_reader.doc_file.paragraphs:\n",
    "        print(para.text)\n",
    "    print(\"Hello world\")"
   ]
  },
  {
   "cell_type": "code",
   "execution_count": null,
   "id": "4d727221",
   "metadata": {},
   "outputs": [],
   "source": []
  },
  {
   "cell_type": "code",
   "execution_count": null,
   "id": "9d53f18d",
   "metadata": {},
   "outputs": [],
   "source": []
  }
 ],
 "metadata": {
  "kernelspec": {
   "display_name": "Python 3 (ipykernel)",
   "language": "python",
   "name": "python3"
  },
  "language_info": {
   "codemirror_mode": {
    "name": "ipython",
    "version": 3
   },
   "file_extension": ".py",
   "mimetype": "text/x-python",
   "name": "python",
   "nbconvert_exporter": "python",
   "pygments_lexer": "ipython3",
   "version": "3.10.6"
  }
 },
 "nbformat": 4,
 "nbformat_minor": 5
}

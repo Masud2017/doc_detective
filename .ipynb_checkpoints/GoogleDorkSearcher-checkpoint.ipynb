{
 "cells": [
  {
   "cell_type": "code",
   "execution_count": 17,
   "id": "12c3a9a3",
   "metadata": {},
   "outputs": [],
   "source": [
    "from googlesearch import search"
   ]
  },
  {
   "cell_type": "code",
   "execution_count": 43,
   "id": "55e0ee4c",
   "metadata": {},
   "outputs": [],
   "source": [
    "'''\n",
    "<h1>GoogleDorkSearcher</h1>\n",
    "This class uses google dork to search websites that contains exact informations that it takes\n",
    "as it's method argument.\n",
    "This class uses `Google custom search api`\n",
    "'''\n",
    "class GoogleDorkSearcher:\n",
    "    def __init__(self):\n",
    "        self.dork_list = [\"intext:\"]\n",
    "        \n",
    "    def get_websource_from_sentence(self,sentence):\n",
    "        response = search(self.dork_list[0]+'\"'+sentence+'\"')\n",
    "        print(self.dork_list[0]+'\"'+sentence+'\"')\n",
    "        for x in response:\n",
    "            print(x)\n",
    "        return response"
   ]
  },
  {
   "cell_type": "code",
   "execution_count": 46,
   "id": "fdeb6288",
   "metadata": {},
   "outputs": [
    {
     "name": "stdout",
     "output_type": "stream",
     "text": [
      "intext:\"This article is about the British East India Company. For the chartered East India Companies of other countries, see East India Company (disambiguation).\"\n"
     ]
    },
    {
     "ename": "HTTPError",
     "evalue": "429 Client Error: Too Many Requests for url: https://www.google.com/sorry/index?continue=https://www.google.com/search%3Fq%3Dintext%253A%2522This%252Barticle%252Bis%252Babout%252Bthe%252BBritish%252BEast%252BIndia%252BCompany.%252BFor%252Bthe%252Bchartered%252BEast%252BIndia%252BCompanies%252Bof%252Bother%252Bcountries%252C%252Bsee%252BEast%252BIndia%252BCompany%252B%2528disambiguation%2529.%2522%26num%3D12%26hl%3Den%26start%3D0&hl=en&q=EgRncOxOGM2P0J4GIjCendlRVQowi0Z83hZhVhk0Q1WqFhtJsO_AJCeJRDWIAax-wnXOZ-bjTjJz8QNNXB8yAXI",
     "output_type": "error",
     "traceback": [
      "\u001b[1;31m---------------------------------------------------------------------------\u001b[0m",
      "\u001b[1;31mHTTPError\u001b[0m                                 Traceback (most recent call last)",
      "Cell \u001b[1;32mIn [46], line 3\u001b[0m\n\u001b[0;32m      1\u001b[0m \u001b[38;5;28;01mif\u001b[39;00m \u001b[38;5;18m__name__\u001b[39m \u001b[38;5;241m==\u001b[39m \u001b[38;5;124m\"\u001b[39m\u001b[38;5;124m__main__\u001b[39m\u001b[38;5;124m\"\u001b[39m:\n\u001b[0;32m      2\u001b[0m     dork \u001b[38;5;241m=\u001b[39m GoogleDorkSearcher()\n\u001b[1;32m----> 3\u001b[0m     res \u001b[38;5;241m=\u001b[39m \u001b[43mdork\u001b[49m\u001b[38;5;241;43m.\u001b[39;49m\u001b[43mget_websource_from_sentence\u001b[49m\u001b[43m(\u001b[49m\u001b[38;5;124;43m\"\u001b[39;49m\u001b[38;5;124;43mThis article is about the British East India Company. For the chartered East India Companies of other countries, see East India Company (disambiguation).\u001b[39;49m\u001b[38;5;124;43m\"\u001b[39;49m\u001b[43m)\u001b[49m\n\u001b[0;32m      4\u001b[0m     \u001b[38;5;28mprint\u001b[39m(res)\n",
      "Cell \u001b[1;32mIn [43], line 13\u001b[0m, in \u001b[0;36mGoogleDorkSearcher.get_websource_from_sentence\u001b[1;34m(self, sentence)\u001b[0m\n\u001b[0;32m     11\u001b[0m response \u001b[38;5;241m=\u001b[39m search(\u001b[38;5;28mself\u001b[39m\u001b[38;5;241m.\u001b[39mdork_list[\u001b[38;5;241m0\u001b[39m]\u001b[38;5;241m+\u001b[39m\u001b[38;5;124m'\u001b[39m\u001b[38;5;124m\"\u001b[39m\u001b[38;5;124m'\u001b[39m\u001b[38;5;241m+\u001b[39msentence\u001b[38;5;241m+\u001b[39m\u001b[38;5;124m'\u001b[39m\u001b[38;5;124m\"\u001b[39m\u001b[38;5;124m'\u001b[39m)\n\u001b[0;32m     12\u001b[0m \u001b[38;5;28mprint\u001b[39m(\u001b[38;5;28mself\u001b[39m\u001b[38;5;241m.\u001b[39mdork_list[\u001b[38;5;241m0\u001b[39m]\u001b[38;5;241m+\u001b[39m\u001b[38;5;124m'\u001b[39m\u001b[38;5;124m\"\u001b[39m\u001b[38;5;124m'\u001b[39m\u001b[38;5;241m+\u001b[39msentence\u001b[38;5;241m+\u001b[39m\u001b[38;5;124m'\u001b[39m\u001b[38;5;124m\"\u001b[39m\u001b[38;5;124m'\u001b[39m)\n\u001b[1;32m---> 13\u001b[0m \u001b[38;5;28;01mfor\u001b[39;00m x \u001b[38;5;129;01min\u001b[39;00m response:\n\u001b[0;32m     14\u001b[0m     \u001b[38;5;28mprint\u001b[39m(x)\n\u001b[0;32m     15\u001b[0m \u001b[38;5;28;01mreturn\u001b[39;00m response\n",
      "File \u001b[1;32m~\\AppData\\Local\\Programs\\Python\\Python310\\lib\\site-packages\\googlesearch\\__init__.py:45\u001b[0m, in \u001b[0;36msearch\u001b[1;34m(term, num_results, lang, proxy, advanced)\u001b[0m\n\u001b[0;32m     42\u001b[0m start \u001b[38;5;241m=\u001b[39m \u001b[38;5;241m0\u001b[39m\n\u001b[0;32m     43\u001b[0m \u001b[38;5;28;01mwhile\u001b[39;00m start \u001b[38;5;241m<\u001b[39m num_results:\n\u001b[0;32m     44\u001b[0m     \u001b[38;5;66;03m# Send request\u001b[39;00m\n\u001b[1;32m---> 45\u001b[0m     resp \u001b[38;5;241m=\u001b[39m \u001b[43m_req\u001b[49m\u001b[43m(\u001b[49m\u001b[43mescaped_term\u001b[49m\u001b[43m,\u001b[49m\u001b[43m \u001b[49m\u001b[43mnum_results\u001b[49m\u001b[38;5;241;43m-\u001b[39;49m\u001b[43mstart\u001b[49m\u001b[43m,\u001b[49m\u001b[43m \u001b[49m\u001b[43mlang\u001b[49m\u001b[43m,\u001b[49m\u001b[43m \u001b[49m\u001b[43mstart\u001b[49m\u001b[43m,\u001b[49m\u001b[43m \u001b[49m\u001b[43mproxies\u001b[49m\u001b[43m)\u001b[49m\n\u001b[0;32m     47\u001b[0m     \u001b[38;5;66;03m# Parse\u001b[39;00m\n\u001b[0;32m     48\u001b[0m     soup \u001b[38;5;241m=\u001b[39m BeautifulSoup(resp\u001b[38;5;241m.\u001b[39mtext, \u001b[38;5;124m'\u001b[39m\u001b[38;5;124mhtml.parser\u001b[39m\u001b[38;5;124m'\u001b[39m)\n",
      "File \u001b[1;32m~\\AppData\\Local\\Programs\\Python\\Python310\\lib\\site-packages\\googlesearch\\__init__.py:18\u001b[0m, in \u001b[0;36m_req\u001b[1;34m(term, results, lang, start, proxies)\u001b[0m\n\u001b[0;32m      6\u001b[0m \u001b[38;5;28;01mdef\u001b[39;00m \u001b[38;5;21m_req\u001b[39m(term, results, lang, start, proxies):\n\u001b[0;32m      7\u001b[0m     resp \u001b[38;5;241m=\u001b[39m get(\n\u001b[0;32m      8\u001b[0m         url\u001b[38;5;241m=\u001b[39m\u001b[38;5;124m\"\u001b[39m\u001b[38;5;124mhttps://www.google.com/search\u001b[39m\u001b[38;5;124m\"\u001b[39m,\n\u001b[0;32m      9\u001b[0m         headers\u001b[38;5;241m=\u001b[39musr_agent,\n\u001b[1;32m   (...)\u001b[0m\n\u001b[0;32m     16\u001b[0m         proxies\u001b[38;5;241m=\u001b[39mproxies,\n\u001b[0;32m     17\u001b[0m     )\n\u001b[1;32m---> 18\u001b[0m     \u001b[43mresp\u001b[49m\u001b[38;5;241;43m.\u001b[39;49m\u001b[43mraise_for_status\u001b[49m\u001b[43m(\u001b[49m\u001b[43m)\u001b[49m\n\u001b[0;32m     19\u001b[0m     \u001b[38;5;28;01mreturn\u001b[39;00m resp\n",
      "File \u001b[1;32m~\\AppData\\Local\\Programs\\Python\\Python310\\lib\\site-packages\\requests\\models.py:943\u001b[0m, in \u001b[0;36mResponse.raise_for_status\u001b[1;34m(self)\u001b[0m\n\u001b[0;32m    940\u001b[0m     http_error_msg \u001b[38;5;241m=\u001b[39m \u001b[38;5;124mu\u001b[39m\u001b[38;5;124m'\u001b[39m\u001b[38;5;132;01m%s\u001b[39;00m\u001b[38;5;124m Server Error: \u001b[39m\u001b[38;5;132;01m%s\u001b[39;00m\u001b[38;5;124m for url: \u001b[39m\u001b[38;5;132;01m%s\u001b[39;00m\u001b[38;5;124m'\u001b[39m \u001b[38;5;241m%\u001b[39m (\u001b[38;5;28mself\u001b[39m\u001b[38;5;241m.\u001b[39mstatus_code, reason, \u001b[38;5;28mself\u001b[39m\u001b[38;5;241m.\u001b[39murl)\n\u001b[0;32m    942\u001b[0m \u001b[38;5;28;01mif\u001b[39;00m http_error_msg:\n\u001b[1;32m--> 943\u001b[0m     \u001b[38;5;28;01mraise\u001b[39;00m HTTPError(http_error_msg, response\u001b[38;5;241m=\u001b[39m\u001b[38;5;28mself\u001b[39m)\n",
      "\u001b[1;31mHTTPError\u001b[0m: 429 Client Error: Too Many Requests for url: https://www.google.com/sorry/index?continue=https://www.google.com/search%3Fq%3Dintext%253A%2522This%252Barticle%252Bis%252Babout%252Bthe%252BBritish%252BEast%252BIndia%252BCompany.%252BFor%252Bthe%252Bchartered%252BEast%252BIndia%252BCompanies%252Bof%252Bother%252Bcountries%252C%252Bsee%252BEast%252BIndia%252BCompany%252B%2528disambiguation%2529.%2522%26num%3D12%26hl%3Den%26start%3D0&hl=en&q=EgRncOxOGM2P0J4GIjCendlRVQowi0Z83hZhVhk0Q1WqFhtJsO_AJCeJRDWIAax-wnXOZ-bjTjJz8QNNXB8yAXI"
     ]
    }
   ],
   "source": [
    "if __name__ == \"__main__\":\n",
    "    dork = GoogleDorkSearcher()\n",
    "    res = dork.get_websource_from_sentence(\"This article is about the British East India Company. For the chartered East India Companies of other countries, see East India Company (disambiguation).\")\n",
    "    print(res)"
   ]
  },
  {
   "cell_type": "code",
   "execution_count": null,
   "id": "81a5f083",
   "metadata": {},
   "outputs": [],
   "source": []
  },
  {
   "cell_type": "code",
   "execution_count": null,
   "id": "26ee0745",
   "metadata": {},
   "outputs": [],
   "source": []
  },
  {
   "cell_type": "code",
   "execution_count": null,
   "id": "9f506901",
   "metadata": {},
   "outputs": [],
   "source": []
  }
 ],
 "metadata": {
  "kernelspec": {
   "display_name": "Python 3 (ipykernel)",
   "language": "python",
   "name": "python3"
  },
  "language_info": {
   "codemirror_mode": {
    "name": "ipython",
    "version": 3
   },
   "file_extension": ".py",
   "mimetype": "text/x-python",
   "name": "python",
   "nbconvert_exporter": "python",
   "pygments_lexer": "ipython3",
   "version": "3.10.6"
  }
 },
 "nbformat": 4,
 "nbformat_minor": 5
}
